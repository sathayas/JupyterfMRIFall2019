{
 "cells": [
  {
   "cell_type": "markdown",
   "metadata": {},
   "source": [
    "<p style='text-align:center'>\n",
    "PSY 394U <b>Methods for fMRI</b>, Fall 2019\n",
    "\n",
    "\n",
    "<img style='width: 300px; padding: 0px;' src='https://github.com/sathayas/JupyterfMRIFall2019/blob/master/Images/Placebo_Left.png?raw=true' alt='brain blobs'/>\n",
    "\n",
    "</p>\n",
    "\n",
    "<p style='text-align:center; font-size:40px; margin-bottom: 30px;'><b> First-level analysis </b></p>\n",
    "\n",
    "<p style='text-align:center; font-size:18px; margin-bottom: 32px;'><b> October 14, 2019</b></p>\n",
    "\n",
    "<hr style='height:5px;border:none' />"
   ]
  },
  {
   "cell_type": "markdown",
   "metadata": {},
   "source": [
    "# Finger-foot-lips task data\n",
    "<hr style=\"height:1px;border:none\" />\n",
    "\n",
    "For this demonstration, we will use the test-retest data (i.e., ds114 data). Among all the fMRI data, we will focus on the **finger foot lips** task data. In brief, during this experiment, subjects were instructed to move body parts shown on the screen. In particular, they tapped fingers on the dominant hand (**hand**), flexed the dominant foot (**foot**), and pursed lips (**lips**). \n",
    "\n",
    "All subjects underwent the same study paradigm, for both test and re-test sessions. We can see details on the experiment from the task event data for this paradigm. "
   ]
  },
  {
   "cell_type": "markdown",
   "metadata": {},
   "source": [
    "[`<TaskInfo_fingerfootlips.py>`](https://github.com/sathayas/fMRIClassFall2019/blob/master/Level1/TaskInfo_fingerfootlips.py)"
   ]
  },
  {
   "cell_type": "code",
   "execution_count": 2,
   "metadata": {},
   "outputs": [
    {
     "name": "stdout",
     "output_type": "stream",
     "text": [
      "    onset  duration  weight trial_type\n",
      "0      10      15.0       1     Finger\n",
      "1      40      15.0       1       Foot\n",
      "2      70      15.0       1       Lips\n",
      "3     100      15.0       1     Finger\n",
      "4     130      15.0       1       Foot\n",
      "5     160      15.0       1       Lips\n",
      "6     190      15.0       1     Finger\n",
      "7     220      15.0       1       Foot\n",
      "8     250      15.0       1       Lips\n",
      "9     280      15.0       1     Finger\n",
      "10    310      15.0       1       Foot\n",
      "11    340      15.0       1       Lips\n",
      "12    370      15.0       1     Finger\n",
      "13    400      15.0       1       Foot\n",
      "14    430      15.0       1       Lips\n"
     ]
    }
   ],
   "source": [
    "import os\n",
    "import pandas as pd\n",
    "from bids.layout import BIDSLayout\n",
    "\n",
    "# Directory where your data set resides.\n",
    "dataDir = '/tmp/Data/ds114'\n",
    "\n",
    "# Creating the layout objects\n",
    "layout = BIDSLayout(dataDir)\n",
    "\n",
    "\n",
    "# Task events tsv file for fingerfootlips, all subjects, both sessions\n",
    "taskTSV = layout.get(task='fingerfootlips',\n",
    "                     suffix='events',\n",
    "                     extension='tsv',\n",
    "                     return_type='file')[0]\n",
    "\n",
    "# reading the task info (as pandas data frame)\n",
    "taskInfo = pd.read_csv(taskTSV, delimiter='\\t')\n",
    "\n",
    "# see whats in the task info\n",
    "print(taskInfo)\n"
   ]
  },
  {
   "cell_type": "markdown",
   "metadata": {},
   "source": [
    "As you see, the three conditions were presented in a pattern of Finger-Foot-Lips, with each condition lasting for 15s. The onset times are regularly spaced, as you can see."
   ]
  },
  {
   "cell_type": "markdown",
   "metadata": {},
   "source": [
    "# First-level analysis - single subject\n",
    "<hr style=\"height:1px;border:none\" />\n",
    "\n",
    "## Pre-processed data\n",
    "\n",
    "Now let us perform a first-level analysis on one of the subjects (`sub-09`). We will focus on the test session (`ses-test`). We shall use the pre-processed data by fMRIprep. If you haven't done already, you can download the tar ball of the pre-processed data from [here](https://utexas.box.com/s/88zh69bgncqda2vrf2vg0nu2ecuaw1ld). After downloading the file, put the `.tar.gz` file under the `ds114` directory of your data directory. To uncompress and unpack the data, you need to run, on your terminal (from your docker),\n",
    "```\n",
    "gunzip ds114_derivatives_selected.tar.gz\n",
    "```\n",
    "Then expand the tar ball by\n",
    "```\n",
    "tar -xvf ds114_derivatives_selected.tar\n",
    "```\n",
    "This should create a directory called **`derivatives_selected`** under `ds114` directory.\n"
   ]
  },
  {
   "cell_type": "markdown",
   "metadata": {},
   "source": [
    "## Some pre-processing steps\n",
    "\n",
    "The fMRI data processed with fMRIprep is normalized in the MNI space. Unfortunately fMRIprep does not perform certain pre-processing steps necessary for the first-level analysis. So we will include some pre-processing nodes in our first-level analysis script."
   ]
  },
  {
   "cell_type": "markdown",
   "metadata": {},
   "source": [
    "[`<Level1_ds114_fingerfootlips_sub-09.py>`](https://github.com/sathayas/fMRIClassFall2019/blob/master/Level1/Level1_ds114_fingerfootlips_sub-09.py)"
   ]
  },
  {
   "cell_type": "code",
   "execution_count": 5,
   "metadata": {},
   "outputs": [],
   "source": [
    "import os\n",
    "import matplotlib.pyplot as plt\n",
    "import matplotlib.image as mpimg\n",
    "import pandas as pd\n",
    "import nibabel as nib   # nibabel to read TR from image header\n",
    "import nipype.interfaces.fsl as fsl # importing FSL interface functions\n",
    "from nipype import Node, Workflow  # components to construct workflow\n",
    "from nipype.interfaces.io import DataSink  # datasink\n",
    "from nipype.algorithms import modelgen  # GLM model generator\n",
    "from nipype.interfaces.base import Bunch\n",
    "from bids.layout import BIDSLayout  # BIDSLayout object to specify file(s)\n",
    "\n",
    "##### DIRECTORY BUSINESS ######\n",
    "# original data directory\n",
    "dataDir = '/tmp/Data/ds114'\n",
    "# Output directory\n",
    "outDir = os.path.join(dataDir,'WorkflowOutput')\n",
    "\n",
    "\n",
    "##### PARAMETERS TO BE USED #####\n",
    "nDelfMRI = 4  # number of first scans to be deleted"
   ]
  },
  {
   "cell_type": "markdown",
   "metadata": {},
   "source": [
    "First, we import necessary libraries, and defined the data directory and the output directory. We also specify a parameter for the number of first fMRI time points to be deleted (**`nDelfMRI`**) as 4.\n",
    "\n",
    "Since the pre-processed fMRI data does not reside in a BIDS-compliant directory, we have to specify the paths to the fMRI data as well as the accompanying mask image."
   ]
  },
  {
   "cell_type": "code",
   "execution_count": 6,
   "metadata": {},
   "outputs": [],
   "source": [
    "###########\n",
    "#\n",
    "# SPECIFYING THE FMRI DATA AND OTHER IMAGE FILES\n",
    "#\n",
    "###########\n",
    "\n",
    "# directory where preprocessed fMRI data is located\n",
    "baseDir = os.path.join(dataDir, 'derivatives_selected/fmriprep')\n",
    "subjDir = os.path.join(baseDir, 'sub-09')\n",
    "sesDir = os.path.join(subjDir, 'ses-test/func')\n",
    "\n",
    "# location of the pre-processed fMRI & mask\n",
    "# NB: Assuming that the preprocessing is done with fMRIprep\n",
    "fList = os.listdir(sesDir)  # getting the directory contents\n",
    "imagefMRI = [x for x in fList if\n",
    "                ('task-fingerfootlips' in x) and   # fingerfootlips task\n",
    "                ('preproc_bold.nii.gz' in x)][0]   # identifying the bold data\n",
    "imageMask = [x for x in fList if\n",
    "                ('task-fingerfootlips' in x) and   # fingerfootlips task\n",
    "                ('brain_mask.nii.gz' in x)][0]   # identifying the bold data\n",
    "\n",
    "filefMRI = os.path.join(sesDir,imagefMRI)\n",
    "fileMask = os.path.join(sesDir,imageMask)"
   ]
  },
  {
   "cell_type": "markdown",
   "metadata": {},
   "source": [
    "* `filefMRI`: full path to the fMRI data image file\n",
    "* `fileMask`: full path to the mask image file\n",
    "\n",
    "Now, first item of post-pre-processing steps is to delete first time points from the fMRI data."
   ]
  },
  {
   "cell_type": "code",
   "execution_count": 7,
   "metadata": {},
   "outputs": [],
   "source": [
    "# skip dummy scans\n",
    "extract = Node(fsl.ExtractROI(in_file=filefMRI,  # input image full path\n",
    "                              t_min=nDelfMRI,    # first volumes to be deleted\n",
    "                              t_size=-1),\n",
    "               name=\"extract\")\n"
   ]
  },
  {
   "cell_type": "markdown",
   "metadata": {},
   "source": [
    "Next, smoothing fMRI data with SUSAn."
   ]
  },
  {
   "cell_type": "code",
   "execution_count": 8,
   "metadata": {},
   "outputs": [],
   "source": [
    "# smoothing with SUSAN\n",
    "susan = Node(fsl.SUSAN(brightness_threshold = 2000.0,  \n",
    "                       fwhm=6.0),    # smoothing filter width (6mm, isotropic)\n",
    "             name='susan')\n"
   ]
  },
  {
   "cell_type": "markdown",
   "metadata": {},
   "source": [
    "And masking with the brain mask -- so that non-brain voxels won't be included in the analysis."
   ]
  },
  {
   "cell_type": "code",
   "execution_count": 9,
   "metadata": {},
   "outputs": [],
   "source": [
    "# masking the fMRI with a brain mask\n",
    "applymask = Node(fsl.ApplyMask(mask_file=fileMask),\n",
    "                 name='applymask')\n"
   ]
  },
  {
   "cell_type": "markdown",
   "metadata": {},
   "source": [
    "## Reading and organizing the task event data\n",
    "\n",
    "To use the task event information in the first level analysis, it needs to be organized in a certain way. First, we locate the task event data file."
   ]
  },
  {
   "cell_type": "code",
   "execution_count": 10,
   "metadata": {},
   "outputs": [],
   "source": [
    "# Creating the layout object for this BIDS data set\n",
    "layout = BIDSLayout(dataDir)\n",
    "\n",
    "# task information file\n",
    "fileEvent = layout.get(suffix='events',\n",
    "                       task='fingerfootlips',\n",
    "                       extension='tsv',\n",
    "                       return_type='file')[0]"
   ]
  },
  {
   "cell_type": "markdown",
   "metadata": {},
   "source": [
    "TR is one of the necessary information setting up the first level model. You can read that information from the fMRI image header."
   ]
  },
  {
   "cell_type": "code",
   "execution_count": 11,
   "metadata": {},
   "outputs": [],
   "source": [
    "# getting TR from the image header\n",
    "fMRI = nib.load(filefMRI)   # image object\n",
    "hdr_fMRI = fMRI.header\n",
    "TR = hdr_fMRI['pixdim'][4]"
   ]
  },
  {
   "cell_type": "markdown",
   "metadata": {},
   "source": [
    "Since we have deleted a number of time points from the fMRI data, we need to adjust event onset time later. For that purpose, we calculate how many seconds the onset times need to be adjusted by multiplying TR with the number of deleted time points. This results in the offset for the onset time in terms of seconds."
   ]
  },
  {
   "cell_type": "code",
   "execution_count": 12,
   "metadata": {},
   "outputs": [],
   "source": [
    "onsetOffset = nDelfMRI * TR  # time adjustement due to deleted fMRI volumes"
   ]
  },
  {
   "cell_type": "markdown",
   "metadata": {},
   "source": [
    "Now read the task event data, and get distinct conditions for this fMRI data."
   ]
  },
  {
   "cell_type": "code",
   "execution_count": 13,
   "metadata": {},
   "outputs": [],
   "source": [
    "trialInfo = pd.read_csv(fileEvent, sep='\\t')\n",
    "conditions = sorted(list(set(trialInfo.trial_type)))"
   ]
  },
  {
   "cell_type": "code",
   "execution_count": 14,
   "metadata": {},
   "outputs": [
    {
     "data": {
      "text/plain": [
       "['Finger', 'Foot', 'Lips']"
      ]
     },
     "execution_count": 14,
     "metadata": {},
     "output_type": "execute_result"
    }
   ],
   "source": [
    "conditions"
   ]
  },
  {
   "cell_type": "markdown",
   "metadata": {},
   "source": [
    "Now, we extract onset times and stimulus durations for each of these conditions."
   ]
  },
  {
   "cell_type": "code",
   "execution_count": 15,
   "metadata": {},
   "outputs": [],
   "source": [
    "onsets = []\n",
    "durations = []\n",
    "\n",
    "for itrial in conditions:\n",
    "    onsets.append(list(trialInfo[trialInfo.trial_type==itrial].onset-onsetOffset))\n",
    "    durations.append(list(trialInfo[trialInfo.trial_type==itrial].duration))"
   ]
  },
  {
   "cell_type": "markdown",
   "metadata": {},
   "source": [
    "Notice that the onset time is adjusted by the offset we calculated earlier. Now we have two nested lists for onset times and durations."
   ]
  },
  {
   "cell_type": "code",
   "execution_count": 17,
   "metadata": {},
   "outputs": [
    {
     "data": {
      "text/plain": [
       "[[0.0, 90.0, 180.0, 270.0, 360.0],\n",
       " [30.0, 120.0, 210.0, 300.0, 390.0],\n",
       " [60.0, 150.0, 240.0, 330.0, 420.0]]"
      ]
     },
     "execution_count": 17,
     "metadata": {},
     "output_type": "execute_result"
    }
   ],
   "source": [
    "onsets"
   ]
  },
  {
   "cell_type": "code",
   "execution_count": 18,
   "metadata": {},
   "outputs": [
    {
     "data": {
      "text/plain": [
       "[[15.0, 15.0, 15.0, 15.0, 15.0],\n",
       " [15.0, 15.0, 15.0, 15.0, 15.0],\n",
       " [15.0, 15.0, 15.0, 15.0, 15.0]]"
      ]
     },
     "execution_count": 18,
     "metadata": {},
     "output_type": "execute_result"
    }
   ],
   "source": [
    "durations"
   ]
  },
  {
   "cell_type": "markdown",
   "metadata": {},
   "source": [
    "Now the conditions, onset times, and durations are combined as an object known as a bunch."
   ]
  },
  {
   "cell_type": "code",
   "execution_count": 19,
   "metadata": {},
   "outputs": [],
   "source": [
    "subject_info = [Bunch(conditions=conditions,\n",
    "                      onsets=onsets,\n",
    "                      durations=durations,\n",
    "                      )]"
   ]
  },
  {
   "cell_type": "code",
   "execution_count": 20,
   "metadata": {},
   "outputs": [
    {
     "data": {
      "text/plain": [
       "[Bunch(conditions=['Finger', 'Foot', 'Lips'],\n",
       "       durations=[[15.0, 15.0, 15.0, 15.0, 15.0],\n",
       "        [15.0, 15.0, 15.0, 15.0, 15.0],\n",
       "        [15.0, 15.0, 15.0, 15.0, 15.0]],\n",
       "       onsets=[[0.0, 90.0, 180.0, 270.0, 360.0],\n",
       "        [30.0, 120.0, 210.0, 300.0, 390.0],\n",
       "        [60.0, 150.0, 240.0, 330.0, 420.0]])]"
      ]
     },
     "execution_count": 20,
     "metadata": {},
     "output_type": "execute_result"
    }
   ],
   "source": [
    "subject_info"
   ]
  },
  {
   "cell_type": "markdown",
   "metadata": {},
   "source": [
    "Now, we define contrasts we will examine later."
   ]
  },
  {
   "cell_type": "code",
   "execution_count": 22,
   "metadata": {},
   "outputs": [],
   "source": [
    "## Defining contrasts\n",
    "cont01 = ['average',        'T', conditions, [1/3., 1/3., 1/3.]]\n",
    "cont02 = ['Finger',         'T', conditions, [1, 0, 0]]\n",
    "cont03 = ['Foot',           'T', conditions, [0, 1, 0]]\n",
    "cont04 = ['Lips',           'T', conditions, [0, 0, 1]]\n",
    "cont05 = ['Finger > others','T', conditions, [1, -0.5, -0.5]]\n",
    "cont06 = ['Foot > others',  'T', conditions, [-0.5, 1, -0.5]]\n",
    "cont07 = ['Lips > others',  'T', conditions, [-0.5, -0.5, 1]]"
   ]
  },
  {
   "cell_type": "markdown",
   "metadata": {},
   "source": [
    "Each contrast is a list, as you can see. For a T contrast, these are required items:\n",
    "  1. Contrast name\n",
    "  2. Contrast type (`'T'` in this case, for a T-contrast)\n",
    "  3. A list of conditions to be examined\n",
    "  4. A vector of weights for that contrast"
   ]
  },
  {
   "cell_type": "code",
   "execution_count": 21,
   "metadata": {},
   "outputs": [],
   "source": [
    "cont08 = ['activation',     'F', [cont02, cont03, cont04]]"
   ]
  },
  {
   "cell_type": "markdown",
   "metadata": {},
   "source": [
    "As for an F contrast, we are examining any activation by an omnibus test of `cont02`, `cont03`, and `cont04`.\n",
    "\n",
    "Finally, we create a list of contrasts."
   ]
  },
  {
   "cell_type": "code",
   "execution_count": 23,
   "metadata": {},
   "outputs": [],
   "source": [
    "contrast_list = [cont01, cont02, cont03, cont04, cont05, cont06, cont07, cont08]"
   ]
  },
  {
   "cell_type": "markdown",
   "metadata": {},
   "source": [
    "## Setting up the first-level analysis\n",
    "\n",
    "Finally we can set up the actual first-level analysis. The first item is convert the experiment design into a form that can be used in subsequent steps. This is done by the **`SpecifyModel`** process available under **`nipype.algorithms.modelgen.SpecifyModel`**"
   ]
  },
  {
   "cell_type": "code",
   "execution_count": 24,
   "metadata": {},
   "outputs": [],
   "source": [
    "# model specification\n",
    "modelspec = Node(modelgen.SpecifyModel(subject_info=subject_info,\n",
    "                                       input_units='secs',\n",
    "                                       time_repetition=TR,\n",
    "                                       high_pass_filter_cutoff=100),\n",
    "                 name=\"modelspec\")"
   ]
  },
  {
   "cell_type": "markdown",
   "metadata": {},
   "source": [
    "Now we generate actual regressors based on the experiment design. The regressors are convolved with the HRF, and the corresponding derivative terms are also generated. This is done by the **`Level1Design`** available under **`nipype.interfaces.fsl`**."
   ]
  },
  {
   "cell_type": "code",
   "execution_count": 25,
   "metadata": {},
   "outputs": [],
   "source": [
    "# first-level design\n",
    "level1design = Node(fsl.Level1Design(bases={'dgamma':{'derivs': True}},\n",
    "                                     interscan_interval=TR,\n",
    "                                     model_serial_correlations=True,\n",
    "                                     contrasts=contrast_list),\n",
    "                    name=\"level1design\")\n"
   ]
  },
  {
   "cell_type": "markdown",
   "metadata": {},
   "source": [
    "At this point, we generate additional necessary files to run the first-level analysis on **FEAT** in FSL, by the **`FEATModel`** process available under `nipype.interfaces.fsl`."
   ]
  },
  {
   "cell_type": "code",
   "execution_count": 29,
   "metadata": {},
   "outputs": [],
   "source": [
    "# creating all the other files necessary to run the model\n",
    "modelgen = Node(fsl.FEATModel(),\n",
    "                name='modelgen')"
   ]
  },
  {
   "cell_type": "markdown",
   "metadata": {},
   "source": [
    "Finally, a node to run FEAT (appropriately named **`FEAT`** under `nipype.interfaces.fsl`)."
   ]
  },
  {
   "cell_type": "code",
   "execution_count": 30,
   "metadata": {},
   "outputs": [],
   "source": [
    "# then running through FEAT\n",
    "feat = Node(fsl.FEAT(),\n",
    "            name=\"feat\")\n"
   ]
  },
  {
   "cell_type": "markdown",
   "metadata": {},
   "source": [
    "We also generate a datasink to collect some outputs."
   ]
  },
  {
   "cell_type": "code",
   "execution_count": 31,
   "metadata": {},
   "outputs": [],
   "source": [
    "# creating datasink to collect outputs\n",
    "datasink = Node(DataSink(base_directory=outDir),\n",
    "                name='datasink')\n"
   ]
  },
  {
   "cell_type": "markdown",
   "metadata": {},
   "source": [
    "## Setting up the workflow\n",
    "\n",
    "Now we have all the necessary nodes, we connect them into a workflow named **`firstLevel`**. Rather than explaining every connection, I just show you the code, as well as the diagram for the workflow."
   ]
  },
  {
   "cell_type": "code",
   "execution_count": 32,
   "metadata": {},
   "outputs": [],
   "source": [
    "# creating the workflow\n",
    "firstLevel = Workflow(name=\"Level1_FingerFootLips\", base_dir=outDir)\n",
    "\n",
    "# connecting nodes\n",
    "firstLevel.connect(extract, 'roi_file', susan, 'in_file')\n",
    "firstLevel.connect(susan, 'smoothed_file', applymask, 'in_file')\n",
    "firstLevel.connect(applymask, 'out_file', modelspec, 'functional_runs')\n",
    "firstLevel.connect(modelspec, 'session_info', level1design, 'session_info')\n",
    "firstLevel.connect(level1design, 'fsf_files', modelgen, 'fsf_file')\n",
    "firstLevel.connect(level1design, 'ev_files', modelgen, 'ev_files')\n",
    "firstLevel.connect(level1design, 'fsf_files', feat, 'fsf_file')\n",
    "firstLevel.connect(feat, 'feat_dir', datasink, 'feat_dir')\n",
    "firstLevel.connect(applymask, 'out_file', datasink, 'Level1_out_file')"
   ]
  },
  {
   "cell_type": "code",
   "execution_count": 35,
   "metadata": {},
   "outputs": [
    {
     "name": "stdout",
     "output_type": "stream",
     "text": [
      "190927-20:33:39,24 nipype.workflow INFO:\n",
      "\t Generated workflow graph: /tmp/Data/ds114/WorkflowOutput/Level1_FingerFootLips/graph_orig.png (graph2use=orig, simple_form=True).\n"
     ]
    },
    {
     "data": {
      "text/plain": [
       "(-0.5, 423.5, 634.5, -0.5)"
      ]
     },
     "execution_count": 35,
     "metadata": {},
     "output_type": "execute_result"
    },
    {
     "data": {
      "image/png": "[encoded data removed]",
      "text/plain": [
       "<Figure size 792x792 with 1 Axes>"
      ]
     },
     "metadata": {
      "needs_background": "light"
     },
     "output_type": "display_data"
    }
   ],
   "source": [
    "# writing out graphs\n",
    "firstLevel.write_graph(graph2use='orig', dotfilename='graph_orig.dot')\n",
    "\n",
    "# showing the graph\n",
    "plt.figure(figsize=[11,11])\n",
    "img=mpimg.imread(os.path.join(outDir,\"Level1_FingerFootLips\",\"graph_orig.png\"))\n",
    "imgplot = plt.imshow(img)\n",
    "plt.axis('off')"
   ]
  },
  {
   "cell_type": "markdown",
   "metadata": {},
   "source": [
    "Now we can run the first-level analysis, the whole thing. It may take 5-10 minutes, depending on your computer."
   ]
  },
  {
   "cell_type": "code",
   "execution_count": 36,
   "metadata": {},
   "outputs": [
    {
     "name": "stdout",
     "output_type": "stream",
     "text": [
      "190927-20:34:44,378 nipype.workflow INFO:\n",
      "\t Workflow Level1_FingerFootLips settings: ['check', 'execution', 'logging', 'monitoring']\n",
      "190927-20:34:44,395 nipype.workflow INFO:\n",
      "\t Running serially.\n",
      "190927-20:34:44,398 nipype.workflow INFO:\n",
      "\t [Node] Setting-up \"Level1_FingerFootLips.extract\" in \"/tmp/Data/ds114/WorkflowOutput/Level1_FingerFootLips/extract\".\n",
      "190927-20:34:44,403 nipype.workflow INFO:\n",
      "\t [Node] Cached \"Level1_FingerFootLips.extract\" - collecting precomputed outputs\n",
      "190927-20:34:44,406 nipype.workflow INFO:\n",
      "\t [Node] \"Level1_FingerFootLips.extract\" found cached.\n",
      "190927-20:34:44,407 nipype.workflow INFO:\n",
      "\t [Node] Setting-up \"Level1_FingerFootLips.susan\" in \"/tmp/Data/ds114/WorkflowOutput/Level1_FingerFootLips/susan\".\n",
      "190927-20:34:44,413 nipype.workflow INFO:\n",
      "\t [Node] Cached \"Level1_FingerFootLips.susan\" - collecting precomputed outputs\n",
      "190927-20:34:44,415 nipype.workflow INFO:\n",
      "\t [Node] \"Level1_FingerFootLips.susan\" found cached.\n",
      "190927-20:34:44,417 nipype.workflow INFO:\n",
      "\t [Node] Setting-up \"Level1_FingerFootLips.applymask\" in \"/tmp/Data/ds114/WorkflowOutput/Level1_FingerFootLips/applymask\".\n",
      "190927-20:34:44,422 nipype.workflow INFO:\n",
      "\t [Node] Cached \"Level1_FingerFootLips.applymask\" - collecting precomputed outputs\n",
      "190927-20:34:44,424 nipype.workflow INFO:\n",
      "\t [Node] \"Level1_FingerFootLips.applymask\" found cached.\n",
      "190927-20:34:44,425 nipype.workflow INFO:\n",
      "\t [Node] Setting-up \"Level1_FingerFootLips.modelspec\" in \"/tmp/Data/ds114/WorkflowOutput/Level1_FingerFootLips/modelspec\".\n",
      "190927-20:34:44,432 nipype.workflow INFO:\n",
      "\t [Node] Cached \"Level1_FingerFootLips.modelspec\" - collecting precomputed outputs\n",
      "190927-20:34:44,433 nipype.workflow INFO:\n",
      "\t [Node] \"Level1_FingerFootLips.modelspec\" found cached.\n",
      "190927-20:34:44,434 nipype.workflow INFO:\n",
      "\t [Node] Setting-up \"Level1_FingerFootLips.level1design\" in \"/tmp/Data/ds114/WorkflowOutput/Level1_FingerFootLips/level1design\".\n",
      "190927-20:34:44,444 nipype.workflow INFO:\n",
      "\t [Node] Cached \"Level1_FingerFootLips.level1design\" - collecting precomputed outputs\n",
      "190927-20:34:44,445 nipype.workflow INFO:\n",
      "\t [Node] \"Level1_FingerFootLips.level1design\" found cached.\n",
      "190927-20:34:44,446 nipype.workflow INFO:\n",
      "\t [Node] Setting-up \"Level1_FingerFootLips.modelgen\" in \"/tmp/Data/ds114/WorkflowOutput/Level1_FingerFootLips/modelgen\".\n",
      "190927-20:34:44,453 nipype.workflow INFO:\n",
      "\t [Node] Cached \"Level1_FingerFootLips.modelgen\" - collecting precomputed outputs\n",
      "190927-20:34:44,454 nipype.workflow INFO:\n",
      "\t [Node] \"Level1_FingerFootLips.modelgen\" found cached.\n",
      "190927-20:34:44,456 nipype.workflow INFO:\n",
      "\t [Node] Setting-up \"Level1_FingerFootLips.feat\" in \"/tmp/Data/ds114/WorkflowOutput/Level1_FingerFootLips/feat\".\n",
      "190927-20:34:44,461 nipype.workflow INFO:\n",
      "\t [Node] Cached \"Level1_FingerFootLips.feat\" - collecting precomputed outputs\n",
      "190927-20:34:44,462 nipype.workflow INFO:\n",
      "\t [Node] \"Level1_FingerFootLips.feat\" found cached.\n",
      "190927-20:34:44,464 nipype.workflow INFO:\n",
      "\t [Node] Setting-up \"Level1_FingerFootLips.datasink\" in \"/tmp/Data/ds114/WorkflowOutput/Level1_FingerFootLips/datasink\".\n",
      "190927-20:34:44,472 nipype.workflow INFO:\n",
      "\t [Node] Running \"datasink\" (\"nipype.interfaces.io.DataSink\")\n",
      "190927-20:34:45,26 nipype.workflow INFO:\n",
      "\t [Node] Finished \"Level1_FingerFootLips.datasink\".\n"
     ]
    },
    {
     "data": {
      "text/plain": [
       "<networkx.classes.digraph.DiGraph at 0x7fa473d73a20>"
      ]
     },
     "execution_count": 36,
     "metadata": {},
     "output_type": "execute_result"
    }
   ],
   "source": [
    "# running the workflow\n",
    "firstLevel.run()\n"
   ]
  },
  {
   "cell_type": "markdown",
   "metadata": {},
   "source": [
    "# Examining the results\n",
    "<hr style=\"height:1px;border:none\" />\n",
    "\n",
    "To examine the results from your first-level analysis, the easiest thing to do is to examine the analysis report generated by FSL. It should be located under the directory **`run0.feat`**, inside the **`feat_dir`** directory generated from the datasink. Under `run0.feat` directory, you can find **`report.html`**. This can be opened on a web browser.\n",
    "\n",
    "## Stats\n",
    "Under **`Stats`**, you can see the design matrix, consisting of the regressors for the three conditions, as well as their temporal derivatives. The regressors are convolved by HRF, as you can see. It also shows weights for different conditions for different contrasts."
   ]
  },
  {
   "cell_type": "markdown",
   "metadata": {},
   "source": [
    "## Post-stats\n",
    "\n",
    "Show significant activations as blobs overlaid on the fMRI data, for different conditions."
   ]
  }
 ],
 "metadata": {
  "kernelspec": {
   "display_name": "Python 3",
   "language": "python",
   "name": "python3"
  },
  "language_info": {
   "codemirror_mode": {
    "name": "ipython",
    "version": 3
   },
   "file_extension": ".py",
   "mimetype": "text/x-python",
   "name": "python",
   "nbconvert_exporter": "python",
   "pygments_lexer": "ipython3",
   "version": "3.5.2"
  }
 },
 "nbformat": 4,
 "nbformat_minor": 2
}
