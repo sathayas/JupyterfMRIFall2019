{
 "cells": [
  {
   "cell_type": "markdown",
   "metadata": {},
   "source": [
    "<p style='text-align:center'>\n",
    "PSY 394U <b>Methods for fMRI</b>, Fall 2019\n",
    "\n",
    "\n",
    "<img style='width: 300px; padding: 0px;' src='https://github.com/sathayas/JupyterfMRIFall2019/blob/master/Images/Placebo_Left.png?raw=true' alt='brain blobs'/>\n",
    "\n",
    "</p>\n",
    "\n",
    "<p style='text-align:center; font-size:40px; margin-bottom: 30px;'><b> Syllabus</b></p>\n",
    "\n",
    "<p style='text-align:center; font-size:24px; margin-bottom: 32px;'><b> PSY 394U (Unique# 41890) </b></p>\n",
    "\n",
    "\n",
    "<hr style='height:5px;border:none' />"
   ]
  },
  {
   "cell_type": "markdown",
   "metadata": {},
   "source": [
    "# Logistics\n",
    "<hr style=\"height:1px;border:none\" />\n",
    "\n",
    "## Class\n",
    "**Class meets**: 1-4pm, Mondays, SEA 2.210\n",
    "\n",
    "Room is unlocked during the class, but proximity card access is required other times. *You may request proximity card access (talk to the instructor).*\n",
    "\n",
    "\n",
    "## Instructor\n",
    "\n",
    "**Satoru Hayasaka**\n",
    "  * **Office**: SEA 2.214\n",
    "  * **Email**: hayasaka@utexas.edu\n",
    "  * **Phone**: 512-475-6177\n",
    "  * **Office hours**: 10:00-11:30am, Mon & Fri - Or by appointment\n",
    "\n"
   ]
  },
  {
   "cell_type": "markdown",
   "metadata": {},
   "source": [
    "# Course description\n",
    "<hr style=\"height:1px;border:none\" />\n",
    "\n",
    "***University Catalog Course Description:*** This course covers preprocessing and statistical\n",
    "analysis methods of fMRI data with tutorials and laboratory exercises. Three lecture hours a week for one semester.\n",
    "\n",
    "\n",
    "## What will I learn?\n",
    "Upon completion of this course, students will be able to:\n",
    "  * Code simple Python programs for data processing and automation\n",
    "  * Manage data and codes associated with their data processing and analysis\n",
    "  * Understand steps involved in fMRI data pre-processing and statistical analysis\n",
    "  * Understand basic concepts in machine learning\n",
    "  * Summarize and articulate concepts on fMRI data processing from a book chapter or from a scientific article.\n",
    "\n",
    "\n",
    "## How will I learn?\n",
    "Each meeting consists of a presentation by a student, followed by a demonstration on\n",
    "processing / analysis methods associated with the topic for the day.\n",
    "\n",
    "For the presentation, a student will present a book chapter or an article related to the topic of the day. This presentation is informal and analogous to a journal club. \n",
    "\n",
    "During the demonstration, the instructor will demonstrate a tool(s) associated with the topic for the day. This will include explanations of a pertinent software tool, how to code / use it,\n",
    "and an example of an analysis using that tool. There will be some hands-on exercises so that\n",
    "students can try using the tools.\n",
    "\n",
    "## Pre-requisites for the course\n",
    "No pre-requisite for this course. Anyone interested in functional MRI and willing to code is a good candidate to take this course. "
   ]
  },
  {
   "cell_type": "markdown",
   "metadata": {},
   "source": [
    "# Course resources\n",
    "<hr style=\"height:1px;border:none\" />\n",
    "\n",
    "## Required resources\n",
    "\n",
    "### Textbook\n",
    "\n",
    "> Poldrack, R. A., Mumford J. A., & Nichols T. E. <br>\n",
    "> ***Handbook of Functional MRI Analysis***. <br>\n",
    "> Cambridge University Press, 2011\n",
    ">\n",
    "> *Electronic version (ProQuest Ebook Central) can be viewed through the UT Library, with some restrictions on downloading.* \n",
    "\n",
    "\n",
    "### Hardware\n",
    "\n",
    "***Computer***: A computer capable of processing neuroimaging data is required. If you choose to use your own laptop, your laptop has to have a sufficiently large memory to handle data sets used in this course. I recommend a system with at least 4GB of RAM per CPU core. There are 10 iMac workstations available in the classroom for students’ use. However, if you use a computer in the classroom, the data and codes used during the class will remain on that computer.\n",
    "\n",
    "***Data storage***: Neuroimaging data sets tend to be large. Moreover, software bundles in Docker images can be substantial in size. Data storage (either on a computer or on a network drive) of at least 30GB is recommended.\n",
    "\n",
    "\n",
    "\n",
    "### Software\n",
    "\n",
    "***Docker***: Docker is similar to a virtual machine (a computer inside your computer), but is\n",
    "much simpler and requiring far less resources to run than a virtual machine. Docker enables\n",
    "you to install and run a bundle of software packages and libraries known as a Docker image.\n",
    "\n",
    "***Docker image***: Docker images called **`sathayas/python-fsl-bundle`** (2.7GB) is available from the Docker Hub web site. This Docker image includes Python 3, FSL (neuroimage data analysis tool), and Python libraries necessary for scientific computing, neuroimage data processing, and machine learning.\n",
    "\n",
    "  * *Installation instructions on Docker and Docker image will be covered during the first class.*\n",
    "\n",
    "  * *Students are expected to install all the necessary packages on their computer, should they elect to use their own computer.* ***The instructor is unable to answer any questions or issues related to software installation during the class.*** *If you need any assistance regarding software installation or issues, consult with the instructor during office hours."
   ]
  }
 ],
 "metadata": {
  "kernelspec": {
   "display_name": "Python 3",
   "language": "python",
   "name": "python3"
  },
  "language_info": {
   "codemirror_mode": {
    "name": "ipython",
    "version": 3
   },
   "file_extension": ".py",
   "mimetype": "text/x-python",
   "name": "python",
   "nbconvert_exporter": "python",
   "pygments_lexer": "ipython3",
   "version": "3.5.6"
  }
 },
 "nbformat": 4,
 "nbformat_minor": 2
}
