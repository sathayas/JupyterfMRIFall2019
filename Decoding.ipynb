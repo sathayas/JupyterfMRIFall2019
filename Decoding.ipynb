{
 "cells": [
  {
   "cell_type": "markdown",
   "metadata": {},
   "source": [
    "<p style='text-align:center'>\n",
    "PSY 394U <b>Methods for fMRI</b>, Fall 2019\n",
    "\n",
    "\n",
    "<img style='width: 300px; padding: 0px;' src='https://github.com/sathayas/JupyterfMRIFall2019/blob/master/Images/Placebo_Left.png?raw=true' alt='brain blobs'/>\n",
    "\n",
    "</p>\n",
    "\n",
    "<p style='text-align:center; font-size:40px; margin-bottom: 30px;'><b> Decoding fMRI </b></p>\n",
    "\n",
    "<p style='text-align:center; font-size:18px; margin-bottom: 32px;'><b> November 18, 2019 </b></p>\n",
    "\n",
    "<hr style='height:5px;border:none' />"
   ]
  },
  {
   "cell_type": "markdown",
   "metadata": {},
   "source": [
    "# 1. Haxby 2001 data\n",
    "<hr style=\"height:1px;border:none\" />\n",
    "\n",
    "The data set used for the paper by Haxby et al. (2001) is publicly available. I have consolidated the data from all subjects, and the tar ball is available for download [here](https://utexas.box.com/s/ccohc8snzswflx99y3w03tw1w4gv6hbq).\n",
    "\n",
    "Each of 6 subjects underwent multiple runs of fMRI viewing images of different categories, as well as two types of control stimuli (rest and scrambled pixels). In this data set, multiple runs for each subject's fMRI experiments are concatenated into a single 4D fMRI time series. Let's examine the data set from one of the subjects."
   ]
  },
  {
   "cell_type": "markdown",
   "metadata": {},
   "source": [
    "[`<HaxbyDataMatrix.py>`](https://github.com/sathayas/fMRIClassFall2019/blob/master/Decoding/HaxbyDataMatrix.py)"
   ]
  },
  {
   "cell_type": "code",
   "execution_count": 1,
   "metadata": {},
   "outputs": [
    {
     "name": "stderr",
     "output_type": "stream",
     "text": [
      "/usr/local/lib/python3.5/dist-packages/sklearn/externals/joblib/__init__.py:15: DeprecationWarning: sklearn.externals.joblib is deprecated in 0.21 and will be removed in 0.23. Please import this functionality directly from joblib, which can be installed with: pip install joblib. If this warning is raised when loading pickled models, you may need to re-serialize those models with scikit-learn 0.21+.\n",
      "  warnings.warn(msg, category=DeprecationWarning)\n"
     ]
    }
   ],
   "source": [
    "import numpy as np\n",
    "import pandas as pd\n",
    "import matplotlib.pyplot as plt\n",
    "from nilearn import datasets\n",
    "from nilearn.plotting import plot_roi\n",
    "from nilearn.input_data import NiftiMasker\n",
    "from sklearn.decomposition import PCA\n",
    "\n",
    "\n",
    "\n",
    "##### PARAMETERS\n",
    "TR = 2.5\n",
    "\n",
    "##### DIRECTORY BUSINESS ######\n",
    "# original data directory where haxby2001 directory resides\n",
    "dataDir = '/tmp/Data'"
   ]
  },
  {
   "cell_type": "code",
   "execution_count": null,
   "metadata": {},
   "outputs": [],
   "source": []
  }
 ],
 "metadata": {
  "kernelspec": {
   "display_name": "Python 3",
   "language": "python",
   "name": "python3"
  },
  "language_info": {
   "codemirror_mode": {
    "name": "ipython",
    "version": 3
   },
   "file_extension": ".py",
   "mimetype": "text/x-python",
   "name": "python",
   "nbconvert_exporter": "python",
   "pygments_lexer": "ipython3",
   "version": "3.5.2"
  }
 },
 "nbformat": 4,
 "nbformat_minor": 2
}
