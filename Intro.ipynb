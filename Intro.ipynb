{
 "cells": [
  {
   "cell_type": "markdown",
   "metadata": {},
   "source": [
    "<p style='text-align:center'>\n",
    "PSY 394U <b>Methods for fMRI</b>, Fall 2019\n",
    "\n",
    "\n",
    "<img style='width: 300px; padding: 0px;' src='https://github.com/sathayas/JupyterfMRIFall2019/blob/master/Images/Placebo_Left.png?raw=true' alt='brain blobs'/>\n",
    "\n",
    "</p>\n",
    "\n",
    "<p style='text-align:center; font-size:40px; margin-bottom: 30px;'><b> Overview </b></p>\n",
    "\n",
    "<p style=\"text-align:center; font-size:18px; margin-bottom: 32px;\"><b> September 9, 2019</b></p>\n",
    "\n",
    "\n",
    "<hr style='height:5px;border:none' />"
   ]
  },
  {
   "cell_type": "markdown",
   "metadata": {},
   "source": [
    "# Syllabus (Executive Summary)"
   ]
  },
  {
   "cell_type": "markdown",
   "metadata": {},
   "source": [
    "# Logistics\n",
    "<hr style=\"height:1px;border:none\" />\n",
    "\n",
    "\n",
    "## Instructor\n",
    "**Satoru Hayasaka, Ph.D.**\n",
    "* Office: SEA 2.214\n",
    "* Email: hayasaka@utexas.edu\n",
    "* Office hours: 10:00-11:30am, Mon & Fri - Or by appointment\n",
    "\n",
    "## Class\n",
    "* **Day/time**: Mon, 1pm-4pm\n",
    "* **Location**: SEA 2.210\n",
    "  * The classroom is unlocked during the class\n",
    "  * Proximity card access required other times\n"
   ]
  },
  {
   "cell_type": "markdown",
   "metadata": {},
   "source": [
    "# Course description\n",
    "<hr style=\"height:1px;border:none\" />\n",
    "\n",
    "This course covers basics of fMRI data processing and analysis. Due to the sheer amount of data, fMRI data analysis requires a number of tools to process data (pre-processing) and to perform statistical inference. I will introduce you to the tools necessary for fMRI data analysis. We will cover:\n",
    "\n",
    "* **Python coding**: Knowing some Python enables you to script to automate some aspects of fMRI data analysis. Also, Python is becoming a *lingua franca* in scientific computing (along with R and MATLAB).\n",
    "* **Pre-processing steps**: You can't analyze fMRI data coming out of an MRI scanner. There are necessary steps to prepare your data. You will learn why we do what we do in pre-processing fMRI data.\n",
    "* **Statistical methods, temporal & spatial**: Because fMRI data contains a series of 3D images, you need special statistical methods to analyze such data.\n",
    "* **Cool new stuff**: Machine learning (dimension reduction, clustering, classification) has been applied to fMRI data. "
   ]
  },
  {
   "cell_type": "markdown",
   "metadata": {},
   "source": [
    "# Course resources\n",
    "<hr style=\"height:1px;border:none\" />\n",
    "\n",
    "## Required\n",
    "\n",
    "### Textbook\n",
    "\n",
    "> Poldrack, R. A., Mumford J. A., & Nichols T. E. <br>\n",
    "> ***Handbook of Functional MRI Analysis***. <br>\n",
    "> Cambridge University Press, 2011\n",
    ">\n",
    "> *Electronic version (ProQuest Ebook Central) can be viewed through the UT Library, with some restrictions on downloading.* \n",
    "\n",
    "\n",
    "### Hardware\n",
    "\n",
    "\n",
    "***Computer***: \n",
    "* A computer capable of processing neuroimaging data is required. \n",
    "* Your own computer (laptop or desktop), or iMac in classroom\n",
    "* I recommend 4GB per CPU core\n",
    "\n",
    "***Data storage***: \n",
    "* For data & software (Docker images).\n",
    "* At least 30GB recommended\n",
    "\n",
    "\n",
    "\n",
    "### Software\n",
    "***NB:*** *The instructor is unable to answer any questions or issues related to software installation during the class. If you need any assistance regarding software installation or issues, consult with the instructor during office hours.*\n",
    "\n",
    "\n",
    "***Docker***: Docker is similar to a virtual machine (a computer inside your computer), but is much simpler and requiring far less resources to run than a virtual machine. \n",
    "\n",
    "***Docker image***: \n",
    "* Docker images called **`sathayas/python-fsl-bundle`** (~3GB) is available from the Docker Hub web site. \n",
    "* It includes Python 3 (and all necessary libraries), FSL (brain image analysis software tool), FSLEyes and MRICron (both are image viewer software tools).\n",
    "\n",
    "\n",
    "***Installation instructions on Docker and Docker image will be covered during the first class.***\n",
    "\n",
    " "
   ]
  },
  {
   "cell_type": "markdown",
   "metadata": {},
   "source": [
    "## Optional Resources\n",
    "\n",
    "### Optional textbook\n",
    "\n",
    "> Al Sweigart. <br>\n",
    "> Automate the Boring Stuff with Python: Practical Programming for Total Beginners. <br>\n",
    "> No Starch Press (2015)\n",
    ">\n",
    "> For those who have never used Python before. *Electronic version can be viewed via the Author's web site.* \n",
    "\n",
    "\n",
    "### Software\n",
    "\n",
    "***Git***: Git enables you to clone (or copy) codes, notes, and some data associated with this class from GitHub. \n",
    "* Git is already pre-installed on Mac. \n",
    "* For Windows users, you can download from its website (https://git-scm.com/downloads). \n",
    "\n",
    "***Use of Git (and GitHub) is explained in a separate document***"
   ]
  },
  {
   "cell_type": "markdown",
   "metadata": {},
   "source": [
    "## Course materials\n",
    "\n",
    "### Course notes\n",
    "Course notes are in Jupyter Notebook format, and available from the instructor’s\n",
    "GitHub repository at https://github.com/sathayas/JupyterfMRIFall2019. You can clone this repository by\n",
    "```\n",
    "git clone https://github.com/sathayas/JupyterfMRIFall2019 Notes\n",
    "```\n",
    "and contents of this repository is cloned on your computer under the newly created directory **`Notes`**.\n",
    "\n",
    "\n",
    "### Reading materials\n",
    "Unfortunately, I cannot post PDF journal articles on GitHub due to copyrights. They will be available via Canvas.\n",
    "\n",
    "\n",
    "### Codes\n",
    "Some example codes used during the class, as well as some sample solutions for in-class\n",
    "exercises and homework assignments, will be available on GitHub at [URL to be added]. You can clone this repository by\n",
    "```\n",
    "git clone [URL to be added] Codes\n",
    "```\n",
    "and contents of this repository is cloned on your computer under the newly created directory **`Codes`**.\n",
    "\n",
    "\n",
    "\n",
    "### Data\n",
    "Data sets used in this class are publicly available data sets on the web. A link for each data set is provided in the course note. *Students are responsible for downloading the data set(s) to their computer before the class.*"
   ]
  },
  {
   "cell_type": "code",
   "execution_count": null,
   "metadata": {},
   "outputs": [],
   "source": []
  }
 ],
 "metadata": {
  "kernelspec": {
   "display_name": "Python 3",
   "language": "python",
   "name": "python3"
  },
  "language_info": {
   "codemirror_mode": {
    "name": "ipython",
    "version": 3
   },
   "file_extension": ".py",
   "mimetype": "text/x-python",
   "name": "python",
   "nbconvert_exporter": "python",
   "pygments_lexer": "ipython3",
   "version": "3.6.5"
  }
 },
 "nbformat": 4,
 "nbformat_minor": 2
}
