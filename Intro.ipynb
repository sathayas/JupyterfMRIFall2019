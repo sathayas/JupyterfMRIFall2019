{
 "cells": [
  {
   "cell_type": "markdown",
   "metadata": {},
   "source": [
    "<p style='text-align:center'>\n",
    "PSY 394U <b>Methods for fMRI</b>, Fall 2019\n",
    "\n",
    "\n",
    "<img style='width: 300px; padding: 0px;' src='https://github.com/sathayas/JupyterfMRIFall2019/blob/master/Images/Placebo_Left.png?raw=true' alt='brain blobs'/>\n",
    "\n",
    "</p>\n",
    "\n",
    "<p style='text-align:center; font-size:40px; margin-bottom: 30px;'><b> Overview </b></p>\n",
    "\n",
    "<p style=\"text-align:center; font-size:18px; margin-bottom: 32px;\"><b> September 9, 2019</b></p>\n",
    "\n",
    "\n",
    "<hr style='height:5px;border:none' />"
   ]
  },
  {
   "cell_type": "markdown",
   "metadata": {},
   "source": [
    "# Syllabus (Executive Summary)"
   ]
  },
  {
   "cell_type": "markdown",
   "metadata": {},
   "source": [
    "# Logistics\n",
    "<hr style=\"height:1px;border:none\" />\n",
    "\n",
    "\n",
    "## Instructor\n",
    "**Satoru Hayasaka, Ph.D.**\n",
    "* Office: SEA 2.214\n",
    "* Email: hayasaka@utexas.edu\n",
    "* Office hours: 10:00-11:30am, Mon & Fri - Or by appointment\n",
    "\n",
    "## Class\n",
    "* **Day/time**: Mon, 1pm-4pm\n",
    "* **Location**: SEA 2.210\n",
    "  * The classroom is unlocked during the class\n",
    "  * Proximity card access required other times\n"
   ]
  },
  {
   "cell_type": "markdown",
   "metadata": {},
   "source": [
    "# Course description\n",
    "<hr style=\"height:1px;border:none\" />\n",
    "\n",
    "This course covers basics of fMRI data processing and analysis. Due to the sheer amount of data, fMRI data analysis requires a number of tools to process data (pre-processing) and to perform statistical inference. I will introduce you to the tools necessary for fMRI data analysis. We will cover:\n",
    "\n",
    "* **Python coding**: Knowing some Python enables you to script to automate some aspects of fMRI data analysis. Also, Python is becoming a *lingua franca* in scientific computing (along with R and MATLAB).\n",
    "* **Pre-processing steps**: You can't analyze fMRI data coming out of an MRI scanner. There are necessary steps to prepare your data. You will learn why we do what we do in pre-processing fMRI data.\n",
    "* **Statistical methods, temporal & spatial**: Because fMRI data contains a series of 3D images, you need special statistical methods to analyze such data.\n",
    "* **Cool new stuff**: Machine learning (dimension reduction, clustering, classification) has been applied to fMRI data. "
   ]
  },
  {
   "cell_type": "markdown",
   "metadata": {},
   "source": [
    "# Course resources\n",
    "<hr style=\"height:1px;border:none\" />\n",
    "\n"
   ]
  }
 ],
 "metadata": {
  "kernelspec": {
   "display_name": "Python 3",
   "language": "python",
   "name": "python3"
  },
  "language_info": {
   "codemirror_mode": {
    "name": "ipython",
    "version": 3
   },
   "file_extension": ".py",
   "mimetype": "text/x-python",
   "name": "python",
   "nbconvert_exporter": "python",
   "pygments_lexer": "ipython3",
   "version": "3.6.5"
  }
 },
 "nbformat": 4,
 "nbformat_minor": 2
}
