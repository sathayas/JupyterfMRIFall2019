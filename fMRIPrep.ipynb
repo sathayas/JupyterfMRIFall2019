{
 "cells": [
  {
   "cell_type": "markdown",
   "metadata": {},
   "source": [
    "<p style='text-align:center'>\n",
    "PSY 394U <b>Methods for fMRI</b>, Fall 2019\n",
    "\n",
    "\n",
    "<img style='width: 300px; padding: 0px;' src='https://github.com/sathayas/JupyterfMRIFall2019/blob/master/Images/Placebo_Left.png?raw=true' alt='brain blobs'/>\n",
    "\n",
    "</p>\n",
    "\n",
    "<p style='text-align:center; font-size:40px; margin-bottom: 30px;'><b> fMRIPrep </b></p>\n",
    "\n",
    "<p style='text-align:center; font-size:18px; margin-bottom: 32px;'><b> October 7, 2019 </b></p>\n",
    "\n",
    "<hr style='height:5px;border:none' />"
   ]
  },
  {
   "cell_type": "markdown",
   "metadata": {},
   "source": [
    "# What is fMRIPrep?\n",
    "<hr style=\"height:1px;border:none\" />\n",
    "\n",
    "As you saw in the previous class, writing your own script for fMRI data pre-processing is a laborious work. Fortunately, there are a number of pre-processing tools written by others. If you choose to use such a tool, then you just run the tool and your data is pre-processed, ready to be analyzed. \n",
    "\n",
    "Your lab may have an fMRI pre-processing script handed down through generations of previous graduate students and post-docs. (I may be wrong, but) Such scripts are often based on a single software tool (probably either SPM or FSL). However, in recent years, it is becoming more common to mix and match different pre-processing steps from multiple software tools. fMRIPrep is a great example of that. \n",
    "\n",
    "**fMRIPrep** is a popular tool for fMRI data pre-processing. It combines multiple brain image processing tools to normalize T1-weighted images and fMRI data into the MNI template space. The default pipeline in fMRIPrep consists of FreeSurfer (surface extraction), ANTS (warping), FSL (segmentation), AFNI (physiological noise correction), and a number of other tools. You can pre-process your fMRI data (along with the accompanying T1 images) as long as your data set is organized in the BIDS structure. "
   ]
  },
  {
   "cell_type": "markdown",
   "metadata": {},
   "source": [
    "# Setting up fMRIPrep\n",
    "<hr style=\"height:1px;border:none\" />\n",
    "\n",
    "## fMRIPrep Docker image\n",
    "## FreeSurfer licence"
   ]
  },
  {
   "cell_type": "markdown",
   "metadata": {},
   "source": [
    "# Running fMRIPrep\n",
    "<hr style=\"height:1px;border:none\" />\n",
    "\n",
    "## Docker command"
   ]
  },
  {
   "cell_type": "markdown",
   "metadata": {},
   "source": [
    "# Output from fMRIPrep\n",
    "<hr style=\"height:1px;border:none\" />\n",
    "\n",
    "## Going over the summary\n",
    "## Resulting files"
   ]
  }
 ],
 "metadata": {
  "kernelspec": {
   "display_name": "Python 3",
   "language": "python",
   "name": "python3"
  },
  "language_info": {
   "codemirror_mode": {
    "name": "ipython",
    "version": 3
   },
   "file_extension": ".py",
   "mimetype": "text/x-python",
   "name": "python",
   "nbconvert_exporter": "python",
   "pygments_lexer": "ipython3",
   "version": "3.5.2"
  }
 },
 "nbformat": 4,
 "nbformat_minor": 2
}
