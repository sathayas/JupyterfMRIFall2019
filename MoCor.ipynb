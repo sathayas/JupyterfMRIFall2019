{
 "cells": [
  {
   "cell_type": "markdown",
   "metadata": {},
   "source": [
    "<p style='text-align:center'>\n",
    "PSY 394U <b>Methods for fMRI</b>, Fall 2019\n",
    "\n",
    "\n",
    "<img style='width: 300px; padding: 0px;' src='https://github.com/sathayas/JupyterfMRIFall2019/blob/master/Images/Placebo_Left.png?raw=true' alt='brain blobs'/>\n",
    "\n",
    "</p>\n",
    "\n",
    "<p style='text-align:center; font-size:40px; margin-bottom: 30px;'><b> Motion correction </b></p>\n",
    "\n",
    "<p style='text-align:center; font-size:18px; margin-bottom: 32px;'><b> September 23, 2019 </b></p>\n",
    "\n",
    "<hr style='height:5px;border:none' />"
   ]
  },
  {
   "cell_type": "markdown",
   "metadata": {},
   "source": [
    "# Overview of pre-processing steps\n",
    "<hr style=\"height:1px;border:none\" />\n",
    "\n",
    "<img style='width: 600px; padding: 0px;' src='https://github.com/sathayas/JupyterfMRIFall2019/blob/master/Images/Nipype_fMRIOverview.png?raw=true' alt='fMRI data analysis flow'/>\n",
    "\n",
    "Starting today, we will learn how to pre-process an fMRI data set so that it will be ready to be analyzed. There are several steps in fMRI pre-processing, and different software tools implement different steps at different stages of preprocessing. Here, my goal is to show some essential steps in pre-processing; whey these steps are needed, and how they can be implemented.\n",
    "\n",
    "Here are steps of fMRI pre-processing. The order may vary in different software packages, but the idea behind these steps is the same. \n",
    "\n",
    "  1. **Slice timing correction**: Corrects for the time differences slice acquisition\n",
    "  2. **Motion correction / realignment**: Corrects for any spatial displacement during fMRI acquisition\n",
    "  3. **Artifact detection**: Corrects for any physiological artifacts during acquisition\n",
    "  4. **Co-registration**: Re-orients the image in the same space as the T1-weighted image\n",
    "  5. **Normalization**: Applies the warping from T1-image normalization to transform fMRI data into the template space\n",
    "  6. **Spatial smoothing**: Smooth fMRI data with a Gaussian kernel\n",
    "  7. **Applying a brain mask**: Apply a brain mask so that only the brain voxels are used in the data analysis.\n",
    "  \n",
    "Today, we shall cover motion correction. We will cover co-registration, normalization, and spatial smoothing in the next class."
   ]
  },
  {
   "cell_type": "markdown",
   "metadata": {},
   "source": [
    "# Brief introduction to Nipype\n",
    "<hr style=\"height:1px;border:none\" />\n",
    "\n",
    "## Steps in fMRI data analysis\n",
    "\n",
    "Although there are different software tools designed for fMRI data analysis, the steps required for such an analysis is very similar for the most part. \n",
    "\n",
    "<img style='width: 650px; padding: 0px;' src='https://github.com/sathayas/JupyterfMRIFall2019/blob/master/Images/Nipype_NeuroImageSchematic.png?raw=true' alt='fMRI processing steps'/>\n",
    "\n",
    "Different software packages implements these steps to analyze fMRI data. So, in theory, it is possible to mix different steps from different software tools but you can still implement all the necessary steps.\n",
    "\n",
    "In recent years, it is becoming increasing common to run a pipeline script (e.g., *fMRIprep*) combining various functionalities from different software tools (e.g., normalization from ANTS, artifact detection from AFNI, smoothing from SPM, etc). Perhaps your lab may have a preprocessing script written by your predecessor. Running each of the pre-processing steps individually is somewhat unusual today. However, for your didactic purposes, I shall go over each step separately today and next class. I use FSL for the sake of simplicity, but by no means it is the best tool for all steps. \n",
    "\n",
    "\n",
    "## Why nipype?\n",
    "\n",
    "Different fMRI analysis software tools have their own scripting capability. In other words, each package lets you write a script (a series of instructions) to implement the entire analysis pipeline from the beginning to the end. This is useful especially you have to run the same pre-processing and analysis steps for multiple subjects. Analyzing multiple subjects' data using a GUI will increase the risk of human error (clicking a wrong button, selecting a wrong file, entering wrong parameters, etc.). \n",
    "\n",
    "The syntax to script a processing pipeline is different in different packages. For a starter, in SPM you write a script in MATLAB, whereas in FSL, you need to code in a shell script. **Nipype** enables you to script different steps in different software tools in Python, so that mixing of different steps very easy.\n",
    "\n",
    "<img style='width: 650px; padding: 0px;' src='https://github.com/sathayas/JupyterfMRIFall2018/blob/master/Images/Nipype_WorkflowEg.png?raw=true' alt='Nipype workflow example'/>\n",
    "\n",
    "Here is an example of how `nipype` implements different steps. The diagram such as this one represents a **workflow**, a series of tasks organized into a diagram, with output from one task fed into the following task. Here, each task is represented as a **node**. A node may take a certain input(s) and produces an output. "
   ]
  },
  {
   "cell_type": "markdown",
   "metadata": {},
   "source": [
    "# What is motion correction?\n",
    "<hr style=\"height:1px;border:none\" />\n",
    "\n",
    "Even if you instruct a subject not to move during an fMRI experiment, chances are, he / she is unable to hold absolutely still. In other words, he or she does move the head. So why does it matter if the subject moves the head? That is because signals may not align across time points, and consequently may not be detected.\n",
    "\n",
    "<img style='width: 500px; padding: 0px;' src='https://github.com/sathayas/JupyterfMRIFall2019/blob/master/Images/Preproc_Motion.png?raw=true' alt='Motion and its impact'/>\n",
    "\n",
    "To correct this problem, motion correction is performed so that all the time points are spatially aligned. This is typically done by spatially re-orienting each time frame to the reference image. The reference image can be one of the time points, or the mean image of all fMRI time points. \n",
    "\n",
    "## How is motion correction performed?\n",
    "Each time point is spatially re-oriented to match the reference image, by rotating or shifting in x, y, and z-directions. This requires only 6 parameters (3 for rotation, and 3 for shifts). This 6-parameter transformation is called **rigid-body transformation**. This makes sense since a person's brain shape does not change over time (at least for the duration of an fMRI experiment anyway). \n",
    "\n",
    "<img style='width: 300px; padding: 0px;' src='https://github.com/sathayas/JupyterfMRIFall2019/blob/master/Images/Preproc_RigidBody.png?raw=true' alt='Rigid body transformation'/>\n",
    "\n",
    "## Limit of motion correction\n",
    "If motion is unusually large, motion correction alone cannot correct all the issues arising from misaligned images. Unfortunately motion is particularly problematic for subject populations whom holding still is challenging (e.g., children, elderly, patients with certain conditions such as Parkinson's disease, ADHD). In such a case, the second line of correction is to include the extent of motion in the statistical analysis (to be covered later). In extreme cases, some time points may be discarded. "
   ]
  },
  {
   "cell_type": "markdown",
   "metadata": {},
   "source": [
    "# Motion correction in Nipype\n",
    "<hr style=\"height:1px;border:none\" />\n",
    "\n",
    "\n",
    "I use motion the motion correction step, implemented in **Nipype**, as a demonstration of how Nipype works."
   ]
  },
  {
   "cell_type": "markdown",
   "metadata": {},
   "source": [
    "[`<MoCor_fsl.py>`](https://github.com/sathayas/fMRIClassFall2019/blob/master/MoCor/MoCor_fsl.py)"
   ]
  },
  {
   "cell_type": "code",
   "execution_count": 1,
   "metadata": {},
   "outputs": [],
   "source": [
    "import os\n",
    "import matplotlib.pyplot as plt\n",
    "import matplotlib.image as mpimg\n",
    "import nipype.interfaces.fsl as fsl # importing FSL interface functions\n",
    "from nipype import Node, Workflow  # components to construct workflow\n",
    "from nipype.interfaces.io import DataSink  # datasink\n",
    "from bids.layout import BIDSLayout  # BIDSLayout object to specify file(s)\n",
    "\n",
    "# Directory where your data set resides.\n",
    "dataDir = '/tmp/Data/ds102'\n",
    "\n",
    "# Creating the layout object for this BIDS data set\n",
    "layout = BIDSLayout(dataDir)"
   ]
  },
  {
   "cell_type": "markdown",
   "metadata": {},
   "source": [
    "## Specifying the input and output\n",
    "\n",
    "Here, I am using `ds102` data, subject 26, run 1. The task is the flanker task."
   ]
  },
  {
   "cell_type": "code",
   "execution_count": 2,
   "metadata": {},
   "outputs": [],
   "source": [
    "# an fMRI image from one of the subjects (run 1 only)\n",
    "imagefMRI = layout.get(subject='26',\n",
    "                       run='1',\n",
    "                       suffix='bold',\n",
    "                       extension='nii.gz',\n",
    "                       return_type='file')[0]"
   ]
  },
  {
   "cell_type": "markdown",
   "metadata": {},
   "source": [
    "I have to add `[0]` at the end to identify the first object in a list with a single object.\n",
    "\n",
    "Now, I am specifying the output directory named **`WorkflowOutput`**. Any output generated by this script will be written under this directory."
   ]
  },
  {
   "cell_type": "code",
   "execution_count": 3,
   "metadata": {},
   "outputs": [],
   "source": [
    "# Output directory\n",
    "outDir = os.path.join(dataDir, 'WorkflowOutput')"
   ]
  },
  {
   "cell_type": "markdown",
   "metadata": {},
   "source": [
    "## Nodes as pre-processing steps\n",
    "\n",
    "Each step in pre-processing is implemented as a **node**. A node can be seen as a self-contained function-like object, that takes input(s), performs some functionality, and returns output(s). \n",
    "\n",
    "As an example of a node, we first create a node to delete first 4 time points from the fMRI data. It is fairly typical (especially older MRI scanner) to remove first few scans in an fMRI time series data. This is done to ensure that magnetic spins reach the equilibrium for stable BOLD fMRI signal. Although this step may not be necessary with newer MRI scanners, I just want to demonstrate how to do this using FSL's **`ExtractROI`**. A node can be created as a **node object** with **`Node`** under **`nipype`**. The parameters specified inside `ExtractROI` are\n",
    "  * `in_file`: input image name\n",
    "  * `t_min`: the index for the first time point to be retained. Any time points (0, 1, ..., `t_min - 1`) will be deleted.\n",
    "  * `t_size`: here, by specifying -1, we get to keep all the remaining scans until the end\n",
    "\n",
    "We name this node with **`name=\"extract\"`**, which is the same name as the object name **`extract`**.\n"
   ]
  },
  {
   "cell_type": "code",
   "execution_count": 4,
   "metadata": {},
   "outputs": [],
   "source": [
    "# node to skip dummy scans\n",
    "extract = Node(fsl.ExtractROI(in_file=imagefMRI,  # input image\n",
    "                              t_min=4,            # first 4 volumes are deleted\n",
    "                              t_size=-1),\n",
    "               name=\"extract\")"
   ]
  },
  {
   "cell_type": "markdown",
   "metadata": {},
   "source": [
    "The actual motion correction is performed by **`MCFLIRT`** under **`nipype.interfaces.fsl`** imported as **`fsl`**. Here, I specify that optional displacement parameters are generated (with **`save_rms=True`** parameter). I name this node **`mcflirt`**."
   ]
  },
  {
   "cell_type": "code",
   "execution_count": 5,
   "metadata": {},
   "outputs": [],
   "source": [
    "# creating motion correction node\n",
    "mcflirt = Node(fsl.MCFLIRT(save_rms=True),   # saving displacement parameters\n",
    "               name=\"mcflirt\")"
   ]
  },
  {
   "cell_type": "markdown",
   "metadata": {},
   "source": [
    "## Datasink\n",
    "\n",
    "One advantage of using Nipype is that it doesn't clutter your computer with many intermediate files typically generated by FSL. However, you may be interested in some of those intermediate outputs. Say, you are interested in motion parameters from the `mcflirt` node. However, such information is not used by any of the other nodes, so it is not saved by default. If you want to save some intermediate data, then you can output it to a *dummy* node known as a **data sink**. A **`DataSink`** object is available in **`nipype.interfaces.io`**. Here is how you can define a data sink object under the output directory `outDir`. "
   ]
  },
  {
   "cell_type": "code",
   "execution_count": 6,
   "metadata": {},
   "outputs": [],
   "source": [
    "# creating datasink to collect outputs\n",
    "datasink = Node(DataSink(base_directory=outDir), \n",
    "                name='datasink')"
   ]
  },
  {
   "cell_type": "markdown",
   "metadata": {},
   "source": [
    "## Workflow"
   ]
  },
  {
   "cell_type": "code",
   "execution_count": null,
   "metadata": {},
   "outputs": [],
   "source": [
    "# creating a workflow\n",
    "moCor = Workflow(name=\"MoCorFSL\", base_dir=outDir)"
   ]
  },
  {
   "cell_type": "code",
   "execution_count": 6,
   "metadata": {},
   "outputs": [],
   "source": [
    "# connecting the nodes\n",
    "moCor.connect(extract,'roi_file', mcflirt, 'in_file')\n",
    "moCor.connect(mcflirt,'out_file', datasink, 'McFSL_Output.@mcfMRI')  # corrected fMRI\n",
    "moCor.connect(mcflirt,'par_file', datasink, 'McFSL_Output.@mcPar')   # motion parameter\n",
    "moCor.connect(mcflirt,'rms_files', datasink, 'McFSL_Output.@mcRMS')   # relative motion"
   ]
  },
  {
   "cell_type": "markdown",
   "metadata": {},
   "source": [
    "Just for fun, I am visualizing the workflow."
   ]
  },
  {
   "cell_type": "code",
   "execution_count": 8,
   "metadata": {},
   "outputs": [],
   "source": [
    "%matplotlib inline"
   ]
  },
  {
   "cell_type": "code",
   "execution_count": 8,
   "metadata": {},
   "outputs": [
    {
     "name": "stdout",
     "output_type": "stream",
     "text": [
      "181105-14:32:47,986 nipype.workflow INFO:\n",
      "\t Generated workflow graph: /Users/sh45474/Documents/Teaching/fMRI_Fall_2018/Data/ds102/WorkflowOutput/MoCorFSL/graph_orig.png (graph2use=orig, simple_form=True).\n"
     ]
    },
    {
     "data": {
      "image/png": "[encoded data removed]",
      "text/plain": [
       "<Figure size 720x720 with 1 Axes>"
      ]
     },
     "metadata": {},
     "output_type": "display_data"
    }
   ],
   "source": [
    "# writing out graph\n",
    "moCor.write_graph(graph2use='orig', dotfilename='graph_orig.dot')\n",
    "\n",
    "# showing the graph\n",
    "plt.figure(figsize=[10,10])\n",
    "img=mpimg.imread(os.path.join(outDir,\"MoCorFSL\",\"graph_orig_detailed.png\"))\n",
    "imgplot = plt.imshow(img)\n",
    "plt.axis('off')\n",
    "plt.show()"
   ]
  },
  {
   "cell_type": "markdown",
   "metadata": {},
   "source": [
    "And running the workflow."
   ]
  },
  {
   "cell_type": "code",
   "execution_count": 9,
   "metadata": {},
   "outputs": [
    {
     "name": "stdout",
     "output_type": "stream",
     "text": [
      "181105-14:33:11,198 nipype.workflow INFO:\n",
      "\t Workflow MoCorFSL settings: ['check', 'execution', 'logging', 'monitoring']\n",
      "181105-14:33:11,206 nipype.workflow INFO:\n",
      "\t Running serially.\n",
      "181105-14:33:11,207 nipype.workflow INFO:\n",
      "\t [Node] Setting-up \"MoCorFSL.extract\" in \"/Users/sh45474/Documents/Teaching/fMRI_Fall_2018/Data/ds102/WorkflowOutput/MoCorFSL/extract\".\n",
      "181105-14:33:11,211 nipype.workflow INFO:\n",
      "\t [Node] Cached \"MoCorFSL.extract\" - collecting precomputed outputs\n",
      "181105-14:33:11,212 nipype.workflow INFO:\n",
      "\t [Node] \"MoCorFSL.extract\" found cached.\n",
      "181105-14:33:11,213 nipype.workflow INFO:\n",
      "\t [Node] Setting-up \"MoCorFSL.mcflirt\" in \"/Users/sh45474/Documents/Teaching/fMRI_Fall_2018/Data/ds102/WorkflowOutput/MoCorFSL/mcflirt\".\n",
      "181105-14:33:11,217 nipype.workflow INFO:\n",
      "\t [Node] Cached \"MoCorFSL.mcflirt\" - collecting precomputed outputs\n",
      "181105-14:33:11,218 nipype.workflow INFO:\n",
      "\t [Node] \"MoCorFSL.mcflirt\" found cached.\n",
      "181105-14:33:11,219 nipype.workflow INFO:\n",
      "\t [Node] Setting-up \"MoCorFSL.datasink\" in \"/Users/sh45474/Documents/Teaching/fMRI_Fall_2018/Data/ds102/WorkflowOutput/MoCorFSL/datasink\".\n",
      "181105-14:33:11,228 nipype.workflow INFO:\n",
      "\t [Node] Running \"datasink\" (\"nipype.interfaces.io.DataSink\")\n",
      "181105-14:33:11,498 nipype.workflow INFO:\n",
      "\t [Node] Finished \"MoCorFSL.datasink\".\n"
     ]
    },
    {
     "data": {
      "text/plain": [
       "<networkx.classes.digraph.DiGraph at 0x10f686e10>"
      ]
     },
     "execution_count": 9,
     "metadata": {},
     "output_type": "execute_result"
    }
   ],
   "source": [
    "# running the workflow\n",
    "moCor.run()"
   ]
  },
  {
   "cell_type": "markdown",
   "metadata": {},
   "source": [
    "**Examining the output**\n",
    "\n",
    "  * Movies of before and after motion correction"
   ]
  },
  {
   "cell_type": "markdown",
   "metadata": {},
   "source": [
    "### SPM\n",
    "In SPM, motion correction is referred as **realignment**."
   ]
  },
  {
   "cell_type": "markdown",
   "metadata": {},
   "source": [
    "`<MoCor_spm.py>`"
   ]
  },
  {
   "cell_type": "code",
   "execution_count": 10,
   "metadata": {},
   "outputs": [],
   "source": [
    "import os\n",
    "import matplotlib.pyplot as plt\n",
    "import matplotlib.image as mpimg\n",
    "import nipype.interfaces.spm as spm # importing SPM interface functions\n",
    "from nipype import Node, Workflow  # components to construct workflow\n",
    "from nipype.interfaces.io import DataSink  # datasink\n",
    "from nipype.algorithms.misc import Gunzip  # gunzip interface\n",
    "from bids.grabbids import BIDSLayout  # BIDSLayout object to specify file(s)\n",
    "\n",
    "# Directory where your data set resides. This needs to be customized\n",
    "#dataDir = '/home/satoru/Teaching/fMRI_Fall_2018/Data/ds102'\n",
    "dataDir = '/Users/sh45474/Documents/Teaching/fMRI_Fall_2018/Data/ds102'\n",
    "\n",
    "# Creating the layout object for this BIDS data set\n",
    "layout = BIDSLayout(dataDir)\n",
    "\n",
    "# an fMRI image from one of the subjects (run 1 only)\n",
    "imagefMRI = layout.get(subject='26',\n",
    "                       run='1',\n",
    "                       type='bold',\n",
    "                       extensions='nii.gz',\n",
    "                       return_type='file')[0]\n",
    "\n",
    "# Output directory\n",
    "outDir = os.path.join(dataDir, 'WorkflowOutput')"
   ]
  },
  {
   "cell_type": "markdown",
   "metadata": {},
   "source": [
    "Since SPM does not like `nii.gz`, the first node is for `gunzip`. There is no simple way to remove dummy scans in SPM, so I do not do that here."
   ]
  },
  {
   "cell_type": "code",
   "execution_count": 11,
   "metadata": {},
   "outputs": [],
   "source": [
    "# gunzip node\n",
    "gunzip = Node(Gunzip(in_file=imagefMRI),\n",
    "              name=\"gunzip\")"
   ]
  },
  {
   "cell_type": "markdown",
   "metadata": {},
   "source": [
    "And the node for the realignment (or motion correction):"
   ]
  },
  {
   "cell_type": "code",
   "execution_count": 12,
   "metadata": {},
   "outputs": [],
   "source": [
    "# motion correction aka realignment\n",
    "realign = Node(spm.Realign(),\n",
    "               name=\"realign\")"
   ]
  },
  {
   "cell_type": "markdown",
   "metadata": {},
   "source": [
    "The data sink, workflow, and connecting nodes."
   ]
  },
  {
   "cell_type": "code",
   "execution_count": 13,
   "metadata": {},
   "outputs": [],
   "source": [
    "# DataSink to collect outputs\n",
    "datasink = Node(DataSink(base_directory=outDir), \n",
    "                name='datasink')\n",
    "\n",
    "# creating a workflow\n",
    "moCor = Workflow(name=\"MoCorSPM\", base_dir=outDir)\n",
    "\n",
    "# connecting the nodes\n",
    "moCor.connect(gunzip,'out_file', realign, 'in_files')\n",
    "moCor.connect(realign,'realigned_files', datasink, 'McSPM_Output.@mcfMRI')  # corrected fMRI\n",
    "moCor.connect(realign,'realignment_parameters', datasink, 'McSPM_Output.@mcPar')   # motion parameter"
   ]
  },
  {
   "cell_type": "markdown",
   "metadata": {},
   "source": [
    "As in FSL motion correction, I generate a graph of the workflow."
   ]
  },
  {
   "cell_type": "code",
   "execution_count": 1,
   "metadata": {},
   "outputs": [],
   "source": [
    "%matplotlib inline"
   ]
  },
  {
   "cell_type": "code",
   "execution_count": 15,
   "metadata": {},
   "outputs": [
    {
     "name": "stdout",
     "output_type": "stream",
     "text": [
      "181105-14:44:19,408 nipype.workflow INFO:\n",
      "\t Generated workflow graph: /Users/sh45474/Documents/Teaching/fMRI_Fall_2018/Data/ds102/WorkflowOutput/MoCorSPM/graph_orig.png (graph2use=orig, simple_form=True).\n"
     ]
    },
    {
     "data": {
      "image/png": "[encoded data removed]",
      "text/plain": [
       "<Figure size 720x288 with 1 Axes>"
      ]
     },
     "metadata": {},
     "output_type": "display_data"
    }
   ],
   "source": [
    "# writing out graphs\n",
    "moCor.write_graph(graph2use='orig', dotfilename='graph_orig.dot')\n",
    "\n",
    "# showing the graph\n",
    "plt.figure(figsize=[10,4])\n",
    "img=mpimg.imread(os.path.join(outDir,\"MoCorSPM\",\"graph_orig_detailed.png\"))\n",
    "imgplot = plt.imshow(img)\n",
    "plt.axis('off')\n",
    "plt.show()"
   ]
  },
  {
   "cell_type": "markdown",
   "metadata": {},
   "source": [
    "Finally running the workflow."
   ]
  }
 ],
 "metadata": {
  "kernelspec": {
   "display_name": "Python 3",
   "language": "python",
   "name": "python3"
  },
  "language_info": {
   "codemirror_mode": {
    "name": "ipython",
    "version": 3
   },
   "file_extension": ".py",
   "mimetype": "text/x-python",
   "name": "python",
   "nbconvert_exporter": "python",
   "pygments_lexer": "ipython3",
   "version": "3.5.2"
  }
 },
 "nbformat": 4,
 "nbformat_minor": 2
}
